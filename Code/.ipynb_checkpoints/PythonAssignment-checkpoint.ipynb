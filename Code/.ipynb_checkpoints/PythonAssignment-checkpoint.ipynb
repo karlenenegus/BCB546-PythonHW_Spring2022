{
 "cells": [
  {
   "cell_type": "markdown",
   "id": "ef5e5580",
   "metadata": {},
   "source": [
    "# Python Assignment\n",
    "Import necessary libraries"
   ]
  },
  {
   "cell_type": "code",
   "execution_count": 1,
   "id": "e4abd5f2",
   "metadata": {},
   "outputs": [],
   "source": [
    "import wget\n",
    "from Bio import SeqIO\n",
    "from Bio.Data import CodonTable\n",
    "from Bio.SeqUtils.ProtParam import ProteinAnalysis\n",
    "import pandas as pd"
   ]
  },
  {
   "cell_type": "markdown",
   "id": "b28d9c1a",
   "metadata": {},
   "source": [
    "If the data and pseudo-code files need to be retrieved from GitHub, uncomment below chunk"
   ]
  },
  {
   "cell_type": "code",
   "execution_count": 2,
   "id": "9a0155d9",
   "metadata": {},
   "outputs": [],
   "source": [
    "# wget.download('https://raw.githubusercontent.com/EEOB-BioData/BCB546-Spring2022/main/assignments/Python_Assignment/penguins_cytb.fasta', out = '../Data')\n",
    "# wget.download('https://raw.githubusercontent.com/EEOB-BioData/BCB546-Spring2022/main/assignments/Python_Assignment/penguins_mass.csv', out = '../Data')\n",
    "# wget.download('https://raw.githubusercontent.com/EEOB-BioData/BCB546-Spring2022/main/assignments/Python_Assignment/sequence_translate.py', out = \"../Code\")"
   ]
  },
  {
   "cell_type": "markdown",
   "id": "7b43cff5",
   "metadata": {},
   "source": [
    "### 1. Get nucleotide sequence from fasta file\n",
    "\n",
    "Import sequences from file and store the sequences to a dictionary"
   ]
  },
  {
   "cell_type": "code",
   "execution_count": 3,
   "id": "44d95cb3",
   "metadata": {},
   "outputs": [],
   "source": [
    "def get_sequences_from_file(fasta_fn):\n",
    "    sequence_data_dict = {} #create empty dictionary\n",
    "    for record in SeqIO.parse(fasta_fn, \"fasta\"): #iterate over the sequence file\n",
    "        description = record.description.split() #return description of current record and split it into a list\n",
    "        species_name = description[1] + \" \" + description[2] #concatenate 1st string in the list with the 2nd separated by a space\n",
    "        sequence_data_dict[species_name] = record.seq #extract sequence from current record and put it in the dictionary under the species name\n",
    "    return(sequence_data_dict) #print to screen the dictionary"
   ]
  },
  {
   "cell_type": "markdown",
   "id": "d0efeb6c",
   "metadata": {},
   "source": [
    "### 2. Translate nucleotide sequence\n",
    "\n",
    "The unabiguous table is used. Stop codons which lack context for a stop are translated as tryptophan per [Bio.Seq.translate description](https://biopython.org/docs/1.78/api/Bio.Seq.html?highlight=seq). "
   ]
  },
  {
   "cell_type": "code",
   "execution_count": 4,
   "id": "244e29db",
   "metadata": {},
   "outputs": [],
   "source": [
    "def translate_function(string_nucleotides):\n",
    "    AA_data_dict = {} #assign empty dictionary\n",
    "    mito_table = CodonTable.unambiguous_dna_by_name['Vertebrate Mitochondrial']\n",
    "    for key, value in string_nucleotides.items(): #loop over each key, value pair\n",
    "        AA_seq_string = \"\" #create empty variable\n",
    "        for reading_frame in range(0, len(value), 3): #loop over each position which represents the first nucleotide of a codon in the sequence string\n",
    "            codon = value[reading_frame:reading_frame+3] #assign the nucleotides of the codon to variable\n",
    "            if (reading_frame == len(value)-3 and codon in (\"TAA\", \"TAG\", \"TGA\")) != True: #if the last codon isn't a stop codon\n",
    "                AA_seq_string += mito_table.forward_table[codon] #get the amino acid which represents the codon\n",
    "        AA_data_dict[key] = AA_seq_string #assign sequence to new AA dictionary using with identical key\n",
    "    return(AA_data_dict)"
   ]
  },
  {
   "cell_type": "markdown",
   "id": "4e160cf7",
   "metadata": {},
   "source": [
    "### 3. Alternative function for translating nucleotide sequence\n",
    "\n",
    "To match the format of the first function, options for translate() were included to translate stop codons with context dependence and to leave off the final stop codon. Options were obtained from [Bio.Seq.translate description](https://biopython.org/docs/1.78/api/Bio.Seq.html?highlight=seq) "
   ]
  },
  {
   "cell_type": "code",
   "execution_count": 5,
   "id": "60e538e9",
   "metadata": {},
   "outputs": [],
   "source": [
    "def alt_translate_function(string_nucleotides):\n",
    "    AA_data_dict = {} #assign empty dictionary\n",
    "    for key in string_nucleotides.keys(): #loop over each key, value pair\n",
    "        AA_data_dict[key] = string_nucleotides[key].translate(table=2, cds=True) \n",
    "        #translate the current sequence ## Table 27: TGA -> STOP or W\n",
    "    return(AA_data_dict)"
   ]
  },
  {
   "cell_type": "markdown",
   "id": "1a3c5ee4",
   "metadata": {},
   "source": [
    "### 4. Calculate molecular weight"
   ]
  },
  {
   "cell_type": "code",
   "execution_count": 6,
   "id": "e1889f4f",
   "metadata": {},
   "outputs": [],
   "source": [
    "def compute_molecular_weight(aa_dict):\n",
    "    mol_wt_dict = {}\n",
    "    for key in aa_dict.keys():\n",
    "        prot_analysis = ProteinAnalysis(str(aa_dict[key]))\n",
    "        mol_wt_dict[key] = prot_analysis.molecular_weight()\n",
    "    return(mol_wt_dict) "
   ]
  },
  {
   "cell_type": "markdown",
   "id": "732f432a",
   "metadata": {},
   "source": [
    "### 5. GC Content Analysis Function\n",
    "\n",
    "Calculate GC content percentage"
   ]
  },
  {
   "cell_type": "code",
   "execution_count": 7,
   "id": "7f7d675c",
   "metadata": {},
   "outputs": [],
   "source": [
    "def compute_GC_content(dict):\n",
    "    GC_dict = {}\n",
    "    for key in dict.keys():\n",
    "        GC = (dict[key].count(\"G\") + dict[key].count(\"C\")) / len(dict[key])\n",
    "        # count G's and C's, add and divide by total\n",
    "        GC_dict[key] = str(round(GC*100, ndigits=2)) + \"%\"\n",
    "        # return GC content as a percentage and store to dictionary\n",
    "    return(GC_dict)"
   ]
  },
  {
   "cell_type": "markdown",
   "id": "ec068070",
   "metadata": {},
   "source": [
    "## Main\n",
    "\n",
    "Store penguin files"
   ]
  },
  {
   "cell_type": "code",
   "execution_count": 9,
   "id": "ec9fabc4",
   "metadata": {},
   "outputs": [],
   "source": [
    "cytb_seqs = get_sequences_from_file(\"../Data/penguins_cytb.fasta\") \n",
    "penguins_df = pd.read_csv(\"../Data/penguins_mass.csv\") # Includes only data for body mass \n",
    "species_list = list(penguins_df.species)"
   ]
  },
  {
   "cell_type": "markdown",
   "id": "ed146e19",
   "metadata": {},
   "source": [
    "### 6. Add Columns\n",
    "Add empty columns to the penguin DataFrame for molecular weight and GC content"
   ]
  },
  {
   "cell_type": "code",
   "execution_count": 10,
   "id": "fb42c1b6",
   "metadata": {
    "scrolled": true
   },
   "outputs": [
    {
     "data": {
      "text/html": [
       "<div>\n",
       "<style scoped>\n",
       "    .dataframe tbody tr th:only-of-type {\n",
       "        vertical-align: middle;\n",
       "    }\n",
       "\n",
       "    .dataframe tbody tr th {\n",
       "        vertical-align: top;\n",
       "    }\n",
       "\n",
       "    .dataframe thead th {\n",
       "        text-align: right;\n",
       "    }\n",
       "</style>\n",
       "<table border=\"1\" class=\"dataframe\">\n",
       "  <thead>\n",
       "    <tr style=\"text-align: right;\">\n",
       "      <th></th>\n",
       "      <th>species</th>\n",
       "      <th>mass</th>\n",
       "      <th>molecular_weight</th>\n",
       "      <th>GC_content</th>\n",
       "    </tr>\n",
       "  </thead>\n",
       "  <tbody>\n",
       "    <tr>\n",
       "      <th>0</th>\n",
       "      <td>Aptenodytes forsteri</td>\n",
       "      <td>28.00</td>\n",
       "      <td>NaN</td>\n",
       "      <td>NaN</td>\n",
       "    </tr>\n",
       "    <tr>\n",
       "      <th>1</th>\n",
       "      <td>Aptenodytes patagonicus</td>\n",
       "      <td>13.40</td>\n",
       "      <td>NaN</td>\n",
       "      <td>NaN</td>\n",
       "    </tr>\n",
       "    <tr>\n",
       "      <th>2</th>\n",
       "      <td>Eudyptes chrysocome</td>\n",
       "      <td>2.80</td>\n",
       "      <td>NaN</td>\n",
       "      <td>NaN</td>\n",
       "    </tr>\n",
       "    <tr>\n",
       "      <th>3</th>\n",
       "      <td>Eudyptes chrysolophus</td>\n",
       "      <td>4.50</td>\n",
       "      <td>NaN</td>\n",
       "      <td>NaN</td>\n",
       "    </tr>\n",
       "    <tr>\n",
       "      <th>4</th>\n",
       "      <td>Eudyptes sclateri</td>\n",
       "      <td>4.25</td>\n",
       "      <td>NaN</td>\n",
       "      <td>NaN</td>\n",
       "    </tr>\n",
       "    <tr>\n",
       "      <th>5</th>\n",
       "      <td>Eudyptula minor</td>\n",
       "      <td>1.60</td>\n",
       "      <td>NaN</td>\n",
       "      <td>NaN</td>\n",
       "    </tr>\n",
       "    <tr>\n",
       "      <th>6</th>\n",
       "      <td>Pygoscelis adeliae</td>\n",
       "      <td>4.60</td>\n",
       "      <td>NaN</td>\n",
       "      <td>NaN</td>\n",
       "    </tr>\n",
       "    <tr>\n",
       "      <th>7</th>\n",
       "      <td>Pygoscelis antarctica</td>\n",
       "      <td>4.10</td>\n",
       "      <td>NaN</td>\n",
       "      <td>NaN</td>\n",
       "    </tr>\n",
       "    <tr>\n",
       "      <th>8</th>\n",
       "      <td>Pygoscelis papua</td>\n",
       "      <td>6.10</td>\n",
       "      <td>NaN</td>\n",
       "      <td>NaN</td>\n",
       "    </tr>\n",
       "    <tr>\n",
       "      <th>9</th>\n",
       "      <td>Spheniscus demersus</td>\n",
       "      <td>3.20</td>\n",
       "      <td>NaN</td>\n",
       "      <td>NaN</td>\n",
       "    </tr>\n",
       "    <tr>\n",
       "      <th>10</th>\n",
       "      <td>Spheniscus humboldti</td>\n",
       "      <td>4.75</td>\n",
       "      <td>NaN</td>\n",
       "      <td>NaN</td>\n",
       "    </tr>\n",
       "    <tr>\n",
       "      <th>11</th>\n",
       "      <td>Spheniscus magellanicus</td>\n",
       "      <td>3.40</td>\n",
       "      <td>NaN</td>\n",
       "      <td>NaN</td>\n",
       "    </tr>\n",
       "  </tbody>\n",
       "</table>\n",
       "</div>"
      ],
      "text/plain": [
       "                    species   mass molecular_weight GC_content\n",
       "0      Aptenodytes forsteri  28.00              NaN        NaN\n",
       "1   Aptenodytes patagonicus  13.40              NaN        NaN\n",
       "2       Eudyptes chrysocome   2.80              NaN        NaN\n",
       "3     Eudyptes chrysolophus   4.50              NaN        NaN\n",
       "4         Eudyptes sclateri   4.25              NaN        NaN\n",
       "5           Eudyptula minor   1.60              NaN        NaN\n",
       "6        Pygoscelis adeliae   4.60              NaN        NaN\n",
       "7     Pygoscelis antarctica   4.10              NaN        NaN\n",
       "8          Pygoscelis papua   6.10              NaN        NaN\n",
       "9       Spheniscus demersus   3.20              NaN        NaN\n",
       "10     Spheniscus humboldti   4.75              NaN        NaN\n",
       "11  Spheniscus magellanicus   3.40              NaN        NaN"
      ]
     },
     "execution_count": 10,
     "metadata": {},
     "output_type": "execute_result"
    }
   ],
   "source": [
    "penguins_df['molecular_weight'] = 'NaN'\n",
    "penguins_df['GC_content'] = 'NaN'\n",
    "penguins_df"
   ]
  },
  {
   "cell_type": "markdown",
   "id": "62c7bc1c",
   "metadata": {},
   "source": [
    "### 7. Get Molecular Weights"
   ]
  },
  {
   "cell_type": "code",
   "execution_count": 11,
   "id": "cc825ba7",
   "metadata": {
    "scrolled": true
   },
   "outputs": [],
   "source": [
    "cytb_aa = translate_function(cytb_seqs)\n",
    "cytb_MW = compute_molecular_weight(cytb_aa)\n",
    "cytb_GC = compute_GC_content(cytb_seqs)"
   ]
  },
  {
   "cell_type": "code",
   "execution_count": 13,
   "id": "110f12b0",
   "metadata": {},
   "outputs": [
    {
     "ename": "TypeError",
     "evalue": "'_AtIndexer' object is not callable",
     "output_type": "error",
     "traceback": [
      "\u001b[0;31m---------------------------------------------------------------------------\u001b[0m",
      "\u001b[0;31mTypeError\u001b[0m                                 Traceback (most recent call last)",
      "\u001b[0;32m/tmp/ipykernel_7689/993110150.py\u001b[0m in \u001b[0;36m<module>\u001b[0;34m\u001b[0m\n\u001b[1;32m      1\u001b[0m \u001b[0;32mfor\u001b[0m \u001b[0mspecies_name\u001b[0m \u001b[0;32min\u001b[0m \u001b[0mpenguins_df\u001b[0m\u001b[0;34m.\u001b[0m\u001b[0mspecies\u001b[0m\u001b[0;34m:\u001b[0m\u001b[0;34m\u001b[0m\u001b[0;34m\u001b[0m\u001b[0m\n\u001b[0;32m----> 2\u001b[0;31m     \u001b[0mpenguins_df\u001b[0m\u001b[0;34m.\u001b[0m\u001b[0mspecies\u001b[0m\u001b[0;34m.\u001b[0m\u001b[0mat\u001b[0m\u001b[0;34m(\u001b[0m\u001b[0;34m)\u001b[0m\u001b[0;34m\u001b[0m\u001b[0;34m\u001b[0m\u001b[0m\n\u001b[0m",
      "\u001b[0;31mTypeError\u001b[0m: '_AtIndexer' object is not callable"
     ]
    }
   ],
   "source": [
    "for species_name in penguins_df.species:\n",
    "    penguins_df.molecular_weight[penguins_df.species == species_name] = cytb_MW[species.name]"
   ]
  },
  {
   "cell_type": "code",
   "execution_count": 29,
   "id": "3c5e8fc5",
   "metadata": {},
   "outputs": [
    {
     "data": {
      "text/plain": [
       "0    NaN\n",
       "Name: molecular_weight, dtype: object"
      ]
     },
     "execution_count": 29,
     "metadata": {},
     "output_type": "execute_result"
    }
   ],
   "source": [
    "penguins_df.molecular_weight[penguins_df.species == 'Aptenodytes forsteri']"
   ]
  },
  {
   "cell_type": "code",
   "execution_count": 31,
   "id": "23d2a4d2",
   "metadata": {
    "scrolled": true
   },
   "outputs": [
    {
     "data": {
      "text/plain": [
       "dict_values([42459.602100000004, 42563.70669999999, 42475.5753, 42445.54929999999, 42475.5753, 42491.64080000001, 42458.61400000001, 42404.54230000001, 42595.87590000001, 42431.54900000002, 42399.55200000001, 42459.60210000002])"
      ]
     },
     "execution_count": 31,
     "metadata": {},
     "output_type": "execute_result"
    }
   ],
   "source": [
    "cytb_MW.values['Aptenodytes for']"
   ]
  }
 ],
 "metadata": {
  "kernelspec": {
   "display_name": "Python 3 (ipykernel)",
   "language": "python",
   "name": "python3"
  },
  "language_info": {
   "codemirror_mode": {
    "name": "ipython",
    "version": 3
   },
   "file_extension": ".py",
   "mimetype": "text/x-python",
   "name": "python",
   "nbconvert_exporter": "python",
   "pygments_lexer": "ipython3",
   "version": "3.9.7"
  }
 },
 "nbformat": 4,
 "nbformat_minor": 5
}
